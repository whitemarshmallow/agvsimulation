{
 "cells": [
  {
   "cell_type": "code",
   "execution_count": 2,
   "id": "2bb62e94",
   "metadata": {},
   "outputs": [],
   "source": [
    "import json\n",
    "import numpy as np\n",
    "from scipy.optimize import linear_sum_assignment\n",
    "import networkx as nx\n",
    "from topo_transform import transform_data\n",
    "from agv_path_planning_positionv6 import plan_path\n",
    "from networkx import astar_path, NetworkXNoPath, NodeNotFound\n",
    "\n",
    "#在这个版本中，如果某条路径不可达，将成本设置为一个非常大的数值（例如1e6），确保匈牙利算法不会选择这些不可达的AGV进行匹配。\n",
    "#之后，打印所有不可达的AGV和订单对的信息，并继续对可达的AGV和订单进行匹配。最终返回和打印的结果将只包含可达的订单和AGV匹配对。\n",
    "\n",
    "#5.3更新：订单返回一个值，如果拿取的订单和所有车都不匹配，那么把这个值保存\n",
    "#5.3.1更新，订单返回的不再是ID值，而是不能分配的整个对象\n",
    "#5.3.2更新，订单返回的是原始的订单对象，不是路径规划和任务分配的对象"
   ]
  },
  {
   "cell_type": "code",
   "execution_count": 3,
   "id": "65d98400",
   "metadata": {},
   "outputs": [
    {
     "name": "stdout",
     "output_type": "stream",
     "text": [
      "data transform之后是\n",
      "\n",
      "{'nodes': ['LM1', 'LM2', 'LM3', 'LM4'], 'edges': [{'start': 'LM1', 'end': 'LM2', 'cost': 1.0}, {'start': 'LM2', 'end': 'LM1', 'cost': 1.0}]}\n",
      "transformer完毕\n"
     ]
    }
   ],
   "source": [
    "# with open('topo_map_data.json', 'r') as file:\n",
    "with open('topo_map_data_unreachable.json', 'r') as file:\n",
    "# with open('topo_map_data_indirect.json', 'r') as file:\n",
    "    data = json.load(file)\n",
    "data = transform_data(data)#transformer去掉data中所有无关的数据，只留下了点和边以及边的代价信息，具备了基本构成图的条件\n",
    "\n",
    "print(\"data transform之后是\\n\")\n",
    "print(data)\n",
    "print(\"transformer完毕\")\n",
    "\n",
    "with open('order.json', 'r') as file:\n",
    "    # with open('order_unreachable.json', 'r') as file:\n",
    "    # with open('order_indirect.json', 'r') as file:\n",
    "    order_dict = json.load(file)\n",
    "\n",
    "# 从字典中提取 AGV 位置信息\n",
    "agv_list = order_dict['agv_position']['agvList']\n",
    "start_positions = order_dict['agv_position']['startPosition']\n",
    "\n",
    "# 创建一个新的字典来存储 AGV 的位置信息\n",
    "agv_positions = {agv: position for agv, position in zip(agv_list, start_positions)}\n",
    "\n",
    "waybills = [\n",
    "    {\n",
    "        \"orderId\": \"00001\",\n",
    "        \"areaId\": \"Area001\",\n",
    "        \"createTime\": \"2024/03/18 14:09\",\n",
    "        \"siteList\": [\n",
    "            {\"nodeId\": \"LM1\", \"postionX\": 190.33, \"postionY\": 270.2, \"nodeTime\": 0},\n",
    "            {\"nodeId\": \"LM2\", \"postionX\": 190.33, \"postionY\": 270.2, \"nodeTime\": 12}\n",
    "        ]\n",
    "    },\n",
    "    {\n",
    "        \"orderId\": \"00002\",\n",
    "        \"areaId\": \"Area001\",\n",
    "        \"createTime\": \"2024/03/18 14:09\",\n",
    "        \"siteList\": [\n",
    "            {\"nodeId\": \"LM2\", \"postionX\": 190.33, \"postionY\": 270.2, \"nodeTime\": 0},\n",
    "            {\"nodeId\": \"LM1\", \"postionX\": 190.33, \"postionY\": 270.2, \"nodeTime\": 12}\n",
    "        ]\n",
    "    },\n",
    "    {\n",
    "        \"orderId\": \"00003\",\n",
    "        \"areaId\": \"Area001\",\n",
    "        \"createTime\": \"2024/03/18 14:09\",\n",
    "        \"siteList\": [\n",
    "            {\"nodeId\": \"LM3\", \"postionX\": 190.33, \"postionY\": 270.2, \"nodeTime\": 0},\n",
    "            {\"nodeId\": \"LM4\", \"postionX\": 190.33, \"postionY\": 270.2, \"nodeTime\": 12}\n",
    "        ]\n",
    "    }\n",
    "\n",
    "]\n",
    "\n",
    "   "
   ]
  },
  {
   "cell_type": "code",
   "execution_count": 4,
   "id": "ae2df2a1",
   "metadata": {
    "scrolled": false
   },
   "outputs": [
    {
     "name": "stdout",
     "output_type": "stream",
     "text": [
      "Graph nodes: ['LM1', 'LM2', 'LM3', 'LM4']\n",
      "Graph edges: [('LM1', 'LM2', {'weight': 1.0}), ('LM2', 'LM1', {'weight': 1.0})]\n",
      "Orders: [{'orderId': '00001', 'siteList': ['LM1', 'LM2']}, {'orderId': '00002', 'siteList': ['LM2', 'LM1']}, {'orderId': '00003', 'siteList': ['LM3', 'LM4']}]\n"
     ]
    }
   ],
   "source": [
    "# 创建有向图并添加边和节点\n",
    "G = nx.DiGraph()\n",
    "G.add_nodes_from(data[\"nodes\"])\n",
    "for edge in data[\"edges\"]:\n",
    "    G.add_edge(edge[\"start\"], edge[\"end\"], weight=edge[\"cost\"])\n",
    "\n",
    "# 打印图的信息\n",
    "print(\"Graph nodes:\", G.nodes)\n",
    "print(\"Graph edges:\", G.edges(data=True))\n",
    "\n",
    "# 构建基本订单信息\n",
    "orders = [{\"orderId\": waybill[\"orderId\"], \"siteList\": [node[\"nodeId\"] for node in waybill[\"siteList\"]]} for waybill in waybills]\n",
    "print(\"Orders:\", orders)"
   ]
  },
  {
   "cell_type": "code",
   "execution_count": 5,
   "id": "10ce6492",
   "metadata": {},
   "outputs": [
    {
     "name": "stdout",
     "output_type": "stream",
     "text": [
      "agv_positions {'agv001': 'LM2', 'agv002': 'LM1'}\n"
     ]
    }
   ],
   "source": [
    "#看看车的位置长什么样\n",
    "print(\"agv_positions\",agv_positions)#是具备AGV名字和位置的字典"
   ]
  },
  {
   "cell_type": "code",
   "execution_count": 6,
   "id": "d88df8ff",
   "metadata": {},
   "outputs": [
    {
     "name": "stdout",
     "output_type": "stream",
     "text": [
      "Order 1 costs: [2.0, 1.0]\n",
      "Order 2 costs: [1.0, 2.0]\n",
      "Order 3 costs: [1000000.0, 1000000.0]\n"
     ]
    }
   ],
   "source": [
    "# 计算成本矩阵\n",
    "cost_matrix = []\n",
    "unreachable_pairs = []  # 用于记录不可达的AGV和订单\n",
    "unreachable_order_ids = []  # 记录所有不可达的订单ID\n",
    "\n",
    "for order in orders:#\n",
    "    task_sequence = order[\"siteList\"]#找到订单要从哪到哪去\n",
    "    order_costs = []\n",
    "    all_unreachable = True\n",
    "\n",
    "    for agv_id, agv_start in agv_positions.items():\n",
    "        total_cost = 0\n",
    "        unreachable = False\n",
    "\n",
    "        try:\n",
    "            for i in range(len(task_sequence)):\n",
    "                if i == 0:\n",
    "                    if agv_start not in G or task_sequence[i] not in G:\n",
    "                        raise NodeNotFound\n",
    "                    path = astar_path(G, agv_start, task_sequence[i])\n",
    "                    length = nx.path_weight(G, path, weight='weight')\n",
    "                else:\n",
    "                    if task_sequence[i - 1] not in G or task_sequence[i] not in G:\n",
    "                        raise NodeNotFound\n",
    "                    path = astar_path(G, task_sequence[i - 1], task_sequence[i])\n",
    "                    length = nx.path_weight(G, path, weight='weight')\n",
    "                total_cost += length\n",
    "            order_costs.append(total_cost)\n",
    "            all_unreachable = False\n",
    "        except (NetworkXNoPath, NodeNotFound):\n",
    "            order_costs.append(1e6)  # 用一个大的数值表示不可达\n",
    "            unreachable_pairs.append((agv_id, order[\"orderId\"]))\n",
    "\n",
    "    cost_matrix.append(order_costs)\n",
    "    if all_unreachable:\n",
    "        unreachable_order_ids.append(order[\"orderId\"])  # 仅记录ID\n",
    "\n",
    "# 打印计算结果\n",
    "for i, order_cost in enumerate(cost_matrix):\n",
    "    print(f\"Order {i + 1} costs: {order_cost}\")"
   ]
  },
  {
   "cell_type": "code",
   "execution_count": 7,
   "id": "2d495aba",
   "metadata": {
    "scrolled": true
   },
   "outputs": [
    {
     "name": "stdout",
     "output_type": "stream",
     "text": [
      "Optimal assignment:\n",
      "Order 00001 assigned to AGV agv002 with cost 1.0\n",
      "Order 00002 assigned to AGV agv001 with cost 1.0\n",
      "\n",
      "\n",
      "Unreachable pairs:\n",
      "Order 00003 is not reachable by AGV agv001\n",
      "Order 00003 is not reachable by AGV agv002\n"
     ]
    }
   ],
   "source": [
    "# 使用匈牙利算法进行订单分配\n",
    "try:\n",
    "    order_idx, agv_idx = linear_sum_assignment(cost_matrix)\n",
    "    print(\"Optimal assignment:\")\n",
    "    for o, a in zip(order_idx, agv_idx):\n",
    "        if cost_matrix[o][a] >= 1e6:\n",
    "            print(f\"Order {orders[o]['orderId']} is not reachable by AGV {list(agv_positions.keys())[a]}\")\n",
    "        else:\n",
    "            print(f\"Order {orders[o]['orderId']} assigned to AGV {list(agv_positions.keys())[a]} with cost {cost_matrix[o][a]}\")\n",
    "except ValueError as e:\n",
    "    print(\"Error in assignment:\", e)\n",
    "\n",
    "# 构建最终的任务数据格式\n",
    "optimized_orders = []\n",
    "for o, a in zip(order_idx, agv_idx):\n",
    "    if cost_matrix[o][a] < 1e6:  # 仅添加可达的订单\n",
    "        assignment = {\n",
    "            \"orderId\": orders[o][\"orderId\"],\n",
    "            \"areaId\": waybills[o][\"areaId\"],\n",
    "            \"missionKey\": 1,\n",
    "            \"agvId\": list(agv_positions.keys())[a],\n",
    "            \"targetList\": orders[o][\"siteList\"]\n",
    "        }\n",
    "        optimized_orders.append(assignment)\n",
    "\n",
    "# 对每个订单执行路径规划并更新结果\n",
    "for order in optimized_orders:\n",
    "    result = plan_path(order, data, agv_positions)\n",
    "    print(\"\")\n",
    "    if result:\n",
    "        order.update(result)\n",
    "\n",
    "# 打印不可达的AGV和订单\n",
    "if unreachable_pairs:\n",
    "    print(\"Unreachable pairs:\")\n",
    "    for agv_id, order_id in unreachable_pairs:\n",
    "        print(f\"Order {order_id} is not reachable by AGV {agv_id}\")\n",
    "\n",
    "# 使用订单ID从waybills中提取未分配的完整订单对象\n",
    "unassigned_orders = [waybill for waybill in waybills if waybill[\"orderId\"] in unreachable_order_ids]\n"
   ]
  },
  {
   "cell_type": "code",
   "execution_count": 8,
   "id": "279e1f86",
   "metadata": {},
   "outputs": [
    {
     "name": "stdout",
     "output_type": "stream",
     "text": [
      "最终输出结果打印\n",
      "{'orderId': '00001', 'areaId': 'Area001', 'missionKey': 1, 'agvId': 'agv002', 'targetList': ['LM1', 'LM2'], 'siteList': ['LM1', 'LM2']}\n",
      "{'orderId': '00002', 'areaId': 'Area001', 'missionKey': 1, 'agvId': 'agv001', 'targetList': ['LM2', 'LM1'], 'siteList': ['LM2', 'LM1']}\n",
      "{'orderId': '00003', 'areaId': 'Area001', 'createTime': '2024/03/18 14:09', 'siteList': [{'nodeId': 'LM3', 'postionX': 190.33, 'postionY': 270.2, 'nodeTime': 0}, {'nodeId': 'LM4', 'postionX': 190.33, 'postionY': 270.2, 'nodeTime': 12}]}\n"
     ]
    }
   ],
   "source": [
    "print(\"最终输出结果打印\")\n",
    "if optimized_orders:\n",
    "    for order in optimized_orders:\n",
    "        print(order)\n",
    "\n",
    "\n",
    "if unassigned_orders:\n",
    "    for order in unassigned_orders:\n",
    "        print(order)"
   ]
  },
  {
   "cell_type": "markdown",
   "id": "aafea745",
   "metadata": {},
   "source": [
    "# 测试代码"
   ]
  },
  {
   "cell_type": "code",
   "execution_count": 9,
   "id": "dda4a78d",
   "metadata": {},
   "outputs": [
    {
     "name": "stdout",
     "output_type": "stream",
     "text": [
      "agv001\n",
      "LM2\n",
      "agv002\n",
      "LM1\n"
     ]
    }
   ],
   "source": [
    " for agv_id, agv_start in agv_positions.items():\n",
    "        print(agv_id)\n",
    "        print(agv_start)"
   ]
  },
  {
   "cell_type": "code",
   "execution_count": 10,
   "id": "0b58ec1d",
   "metadata": {},
   "outputs": [
    {
     "name": "stdout",
     "output_type": "stream",
     "text": [
      "['LM1', 'LM1', 'LM2']\n",
      "['LM2', 'LM2', 'LM1']\n",
      "['LM3', 'LM4']\n"
     ]
    }
   ],
   "source": [
    "for order in orders:\n",
    "    task_sequence = order[\"siteList\"]#找到订单要从哪到哪去\n",
    "    print(task_sequence)"
   ]
  },
  {
   "cell_type": "code",
   "execution_count": 11,
   "id": "243a37c8",
   "metadata": {},
   "outputs": [],
   "source": [
    "order_idx, agv_idx = linear_sum_assignment(cost_matrix)"
   ]
  },
  {
   "cell_type": "code",
   "execution_count": 13,
   "id": "a261a463",
   "metadata": {},
   "outputs": [
    {
     "data": {
      "text/plain": [
       "array([0, 1], dtype=int64)"
      ]
     },
     "execution_count": 13,
     "metadata": {},
     "output_type": "execute_result"
    }
   ],
   "source": [
    "order_idx"
   ]
  },
  {
   "cell_type": "code",
   "execution_count": 14,
   "id": "619cb791",
   "metadata": {},
   "outputs": [
    {
     "data": {
      "text/plain": [
       "array([1, 0], dtype=int64)"
      ]
     },
     "execution_count": 14,
     "metadata": {},
     "output_type": "execute_result"
    }
   ],
   "source": [
    "agv_idx"
   ]
  },
  {
   "cell_type": "code",
   "execution_count": null,
   "id": "6d0f35df",
   "metadata": {},
   "outputs": [],
   "source": []
  }
 ],
 "metadata": {
  "kernelspec": {
   "display_name": "Python 3 (ipykernel)",
   "language": "python",
   "name": "python3"
  },
  "language_info": {
   "codemirror_mode": {
    "name": "ipython",
    "version": 3
   },
   "file_extension": ".py",
   "mimetype": "text/x-python",
   "name": "python",
   "nbconvert_exporter": "python",
   "pygments_lexer": "ipython3",
   "version": "3.9.12"
  }
 },
 "nbformat": 4,
 "nbformat_minor": 5
}
